{
 "cells": [
  {
   "cell_type": "code",
   "execution_count": 1,
   "metadata": {
    "collapsed": true
   },
   "outputs": [],
   "source": [
    "import os, sys\n",
    "import pandas as pd\n",
    "import numpy as np\n",
    "import datetime\n",
    "from datetime import date"
   ]
  },
  {
   "cell_type": "code",
   "execution_count": 6,
   "metadata": {
    "collapsed": true
   },
   "outputs": [],
   "source": [
    "def clean_citibike(data):\n",
    "    data['datetime'] = pd.to_datetime(data['date'], format='%y-%m-%d')\n",
    "    data.drop('date', axis = 1, inplace = True)\n",
    "    #binary feature of each day\n",
    "    data['date'] = data['datetime'].dt.date\n",
    "    data['day_of_week'] = data.datetime.dt.weekday_name\n",
    "    data['weekday'] = [0 if x in ['Saturday','Sunday'] else 1 for x in data['day_of_week']]\n",
    "\n",
    "    #binarize categorical variables\n",
    "    data = pd.get_dummies(data , columns = ['day_of_week'] )\n",
    "    \n",
    "    #holiday    \n",
    "    holiday = ['2016-01-01','2016-01-18', '2016-02-15', '2016-05-30',\n",
    "               '2016-07-04', '2016-09-05', '2016-10-10', '2016-11-11', '2016-11-24', '2016-12-25']\n",
    "\n",
    "    holiday = pd.to_datetime(holiday, format='%Y-%m-%d')\n",
    "    data['holiday'] = [1 if x in holiday else 0 for x in data.datetime]\n",
    "\n",
    "    #cyclical characteristics of time\n",
    "    data['hour_24'] = data.hour + data.pm * 12 \n",
    "    data['time_x'] = np.cos((data.hour_24 + data.minute/60) * 2*np.pi /24)\n",
    "    data['time_y'] = np.sin((data.hour_24 + data.minute/60) * 2*np.pi /24)\n",
    "#     data['dayofyear'] = data.datetime.dt.dayofyear\n",
    "#     data['day_x'] = np.cos((data.dayofyear) * 2*np.pi /365)\n",
    "#     data['day_y'] = np.sin((data.dayofyear) * 2*np.pi /365)\n",
    "\n",
    "    #Target \n",
    "    data['shortage'] = [1 if x<=5 else 0 for x in data['avail_bikes']]\n",
    "    \n",
    "    #remove unwanted columns\n",
    "    data.drop(['datetime','in_service','status_key', 'avail_bikes','avail_docks'], axis = 1, inplace = True)\n",
    "    return data\n",
    "\n",
    "\n",
    "\n",
    "def parse_weather(file_path):\n",
    "\n",
    "    weather_data = pd.read_csv(file_path)\n",
    "\n",
    "    weather = weather_data.loc[:,['pickup_datetime',\n",
    "                        'tempi', #temperature in farenheit\n",
    "                        'wspdi', #wind speed in mph\n",
    "                       'rain', # rain, boolean\n",
    "                       'snow',# snow, boolean\n",
    "                       'visi' ]] #vibilitity in miles\n",
    "    weather_features = list(weather.columns[1:])\n",
    "\n",
    "\n",
    "    weather.fillna(0, inplace=True)\n",
    "    weather['datetime'] = pd.to_datetime(weather['pickup_datetime'], format='%Y-%m-%d %H:%M::%S', infer_datetime_format=True)\n",
    "    weather['date'] = weather['datetime'].dt.date\n",
    "    weather['hour_24'] = weather['datetime'].dt.hour+1\n",
    "    weather['minute'] = weather['datetime'].dt.minute\n",
    "    weather.drop(['pickup_datetime', 'datetime'],axis = 1, inplace = True)\n",
    "\n",
    "    g = weather[['tempi', 'wspdi', 'rain', 'snow','visi']].groupby([weather['date'], weather['hour_24']])\n",
    "    weather_by_hour = g.mean()\n",
    "\n",
    "    for i in ['rain', 'snow']:\n",
    "        weather_by_hour[i] = [1 if w>0 else 0 for w in weather_by_hour[i]]\n",
    "\n",
    "    weather_by_hour.reset_index(inplace = True)\n",
    "    return weather_by_hour\n",
    "\n",
    "def merge_weather (weather_df, df):\n",
    "\n",
    "    df['date'] = pd.to_datetime(df['date']).dt.date\n",
    "    df_weather = pd.merge(df, weather_df, on=['date','hour_24'], how = 'left')\n",
    "    df_weather.fillna(method = 'bfill', inplace = True)\n",
    "    return df_weather\n"
   ]
  },
  {
   "cell_type": "code",
   "execution_count": null,
   "metadata": {
    "collapsed": true
   },
   "outputs": [],
   "source": [
    "#read data\n",
    "data_dir = '../Data/'\n",
    "data_train = pd.read_csv(data_dir + 'train1_jan_aug.csv', sep='\\t', error_bad_lines=False, index_col = 'Unnamed: 0')\n",
    "data_test = pd.read_csv(data_dir + 'test_sep_oct.csv', sep='\\t', error_bad_lines=False,  index_col = 'Unnamed: 0')\n",
    "\n",
    "#remove unreasonable data\n",
    "    #total docks == 0\n",
    "data_test = data_test[data_test.tot_docks != 0]\n",
    "data_train = data_train[data_train.tot_docks != 0]\n",
    "    #coming soon bike docks\n",
    "data_train = data_train[~data_train.dock_name.str.contains('Coming Soon')]\n",
    "data_test = data_test[~data_test.dock_name.str.contains('Coming Soon')]\n",
    "\n",
    "#clean\n",
    "d_test = clean_citibike(data_test)\n",
    "d_train = clean_citibike(data_train)\n",
    "\n",
    "#clean and merge weather data\n",
    "weather_file_path = data_dir + 'Weather.csv'\n",
    "weather_by_hour = parse_weather(weather_file_path)\n",
    "d_train = merge_weather(weather_by_hour, d_train)\n",
    "d_test = merge_weather(weather_by_hour,d_test)\n",
    "\n",
    "#merge subway data\n",
    "subway = pd.read_csv(data_dir + 'dock_subway_dist.csv')\n",
    "subway = subway[['dock_name', 'lat','long','dist']]\n",
    "\n",
    "subway = subway.rename(columns={'lat': 'subway_lat', 'long': 'subway_long'})\n",
    "subway = subway.loc[subway.groupby('dock_name').subway_lat.idxmin()]\n",
    "\n",
    "d_train = pd.merge(d_train, subway, how = 'inner', on ='dock_name')\n",
    "d_test = pd.merge(d_test, subway, how = 'inner', on ='dock_name')\n",
    "\n",
    "\n",
    "#drop unnecessary columns\n",
    "d_train = d_train.drop(['hour_24','hour', 'minute', 'pm' ,'date','dock_id','dock_name','dock_name6'],1)\n",
    "d_test = d_test.drop(['hour_24','hour', 'minute', 'pm' ,'date','dock_id','dock_name'],1)"
   ]
  },
  {
   "cell_type": "code",
   "execution_count": 7,
   "metadata": {
    "collapsed": false
   },
   "outputs": [],
   "source": [
    "d_train.to_csv('../Data/train_very_clean.csv', sep = ',', index = False)\n",
    "d_test.to_csv('../Data/test_very_clean.csv', sep = ',', index = False)"
   ]
  }
 ],
 "metadata": {
  "kernelspec": {
   "display_name": "Python 3",
   "language": "python",
   "name": "python3"
  },
  "language_info": {
   "codemirror_mode": {
    "name": "ipython",
    "version": 3
   },
   "file_extension": ".py",
   "mimetype": "text/x-python",
   "name": "python",
   "nbconvert_exporter": "python",
   "pygments_lexer": "ipython3",
   "version": "3.6.0"
  }
 },
 "nbformat": 4,
 "nbformat_minor": 2
}
